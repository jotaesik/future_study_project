{
 "cells": [
  {
   "cell_type": "code",
   "execution_count": 1,
   "id": "7c60d516-cf00-461d-9003-330dc462bac9",
   "metadata": {},
   "outputs": [],
   "source": [
    "import csv\n",
    "import pandas as pd"
   ]
  },
  {
   "cell_type": "markdown",
   "id": "1a7ab983-1c79-47f7-9ba7-3f0987ec5fef",
   "metadata": {},
   "source": [
    "https://www.kaggle.com/datasets/berkeleyearth/climate-change-earth-surface-temperature-data/data?select=GlobalLandTemperaturesByMajorCity.csv\n",
    "날짜: 평균 육지 온도는 1750년에 시작하고 최대 및 최소 육지 온도와 전 세계 해양 및 육지 온도는 1850년에 시작됩니다.\n",
    "LandAverageTemperature: 지구 평균 육지 온도(섭씨)\n",
    "LandAverageTemperatureUncertainty: 평균에 대한 95% 신뢰 구간\n",
    "LandMaxTemperature: 지구 평균 최대 육지 온도(섭씨)\n",
    "LandMaxTemperatureUncertainty: 최대 육지 온도에 대한 95% 신뢰 구간\n",
    "LandMinTemperature: 지구 평균 최저 육지 온도(섭씨)\n",
    "LandMinTemperatureUncertainty: 최소 토지 온도에 대한 95% 신뢰 구간\n",
    "LandAndOceanAverageTemperature: 지구 평균 육지와 바다 온도(섭씨)\n",
    "LandAndOceanAverageTemperatureUncertainty: 지구 평균 육지 및 해양 온도에 대한 95% 신뢰 구간"
   ]
  },
  {
   "cell_type": "markdown",
   "id": "09566576-c1a4-4f9e-a6d4-9b1415371a76",
   "metadata": {},
   "source": [
    "국가별 세계 평균 토지 온도( GlobalLandTemperaturesByCountry.csv )\n",
    "주별 지구 평균 토지 온도( GlobalLandTemperaturesByState.csv )\n",
    "주요 도시별 지구 온도( GlobalLandTemperaturesByMajorCity.csv )\n",
    "도시별 지구 온도( GlobalLandTemperaturesByCity.csv )"
   ]
  },
  {
   "cell_type": "markdown",
   "id": "50fcbbab-a7c3-4b78-9c7f-0c0559d04c23",
   "metadata": {},
   "source": [
    "1. 데이터불러오기\n",
    "2. 불필요한 변수제거\n",
    "3. 결측치 처리\n",
    "4. 이상치 확인 시각화 및 제거\n",
    "5. 전처리 끝 데이터 저장\n",
    "6. 데이터 병합\n",
    "7. x,y값 시각화\n",
    "8. 데이터 스케일링\n",
    "9. 학습/테스트 분리\n",
    "10. 모델링(하이퍼파라미터 모델 성능 시각화 함수를 쓰자)https://heytech.tistory.com/150"
   ]
  },
  {
   "cell_type": "markdown",
   "id": "3d51e2b4-c27c-4eff-90cf-6b206296e9a4",
   "metadata": {},
   "source": [
    "# 데이터 불러오기 + 불필요한 변수제거없음 + 데이터 저장"
   ]
  },
  {
   "cell_type": "code",
   "execution_count": 2,
   "id": "16acc68b-7c58-4aec-956f-1264da4d3fe4",
   "metadata": {},
   "outputs": [],
   "source": [
    "주요_도시별_지구_온도 = pd.read_csv(\"./data/GlobalLandTemperaturesByMajorCity.csv\")\n",
    "국가별_세계_평균_토지_온도 = pd.read_csv(\"./data/GlobalLandTemperaturesByCountry.csv\")\n",
    "도시별_지구_온도 = pd.read_csv(\"./data/GlobalLandTemperaturesByCity.csv\")\n",
    "주별_지구_평균_토지_온도 = pd.read_csv(\"./data/GlobalLandTemperaturesByState.csv\")\n",
    "지구_온도 = pd.read_csv(\"./data/GlobalTemperatures.csv\")"
   ]
  },
  {
   "cell_type": "code",
   "execution_count": 3,
   "id": "7b6a7125-2618-4ee6-bae4-b771add9b091",
   "metadata": {},
   "outputs": [],
   "source": [
    "# 주요_도시별_지구_온도 = 주요_도시별_지구_온도[[\"dt\",\"AverageTemperature\",\"AverageTemperatureUncertainty\",\"City\",\"Country\"]]\n",
    "주요_도시별_지구_온도.rename(columns={\"dt\" : \"날짜\" , \"AverageTemperature\" : \"평균 온도\" , \"AverageTemperatureUncertainty\" : \"평균 온도 불확도\",\n",
    "                             \"City\" : \"도시\" , \"Country\" : \"국가\",\"Latitude\" : \"위도\", \"Longitude\" : \"경도\"} ,inplace=True)"
   ]
  },
  {
   "cell_type": "code",
   "execution_count": 4,
   "id": "0a665681-9e5f-4a31-a4de-ea6c4f059190",
   "metadata": {},
   "outputs": [],
   "source": [
    "국가별_세계_평균_토지_온도.rename(columns={\"dt\" : \"날짜\" , \"AverageTemperature\" : \"평균 온도\" , \"AverageTemperatureUncertainty\" : \"평균 온도 불확도\",\n",
    "                             \"City\" : \"도시\" , \"Country\" : \"국가\"} ,inplace=True)"
   ]
  },
  {
   "cell_type": "code",
   "execution_count": 5,
   "id": "861e48b4-f8d4-4cdf-8a59-6ccaa583b3e8",
   "metadata": {},
   "outputs": [],
   "source": [
    "# 도시별_지구_온도 = 도시별_지구_온도[[\"dt\",\"AverageTemperature\",\"AverageTemperatureUncertainty\",\"City\",\"Country\"]]\n",
    "도시별_지구_온도.rename(columns={\"dt\" : \"날짜\" , \"AverageTemperature\" : \"평균 온도\" , \"AverageTemperatureUncertainty\" : \"평균 온도 불확도\",\n",
    "                             \"City\" : \"도시\" , \"Country\" : \"국가\", \"Latitude\" : \"위도\", \"Longitude\" : \"경도\"} ,inplace=True)"
   ]
  },
  {
   "cell_type": "code",
   "execution_count": 6,
   "id": "32b31ffa-c215-4a51-acf5-60a414eb5dbd",
   "metadata": {},
   "outputs": [],
   "source": [
    "주별_지구_평균_토지_온도.rename(columns={\"dt\" : \"날짜\" , \"AverageTemperature\" : \"평균 온도\" , \"AverageTemperatureUncertainty\" : \"평균 온도 불확도\",\n",
    "                             \"City\" : \"도시\" , \"Country\" : \"국가\"} ,inplace=True)"
   ]
  },
  {
   "cell_type": "code",
   "execution_count": 7,
   "id": "47c4868d-905d-4ace-a5d8-860c95009de8",
   "metadata": {},
   "outputs": [],
   "source": [
    "지구_온도.rename(columns={\"dt\" : \"날짜\" , \"LandAverageTemperature\" : \"육지 평균 온도\" , \"LandAverageTemperatureUncertainty\" : \"육지 평균 온도 불확도\",\n",
    "                             \"LandMaxTemperature\" : \"육지 최고 온도\", \"LandMaxTemperatureUncertainty\" : \"육지 최고 온도 불확도\",\n",
    "                      \"LandMinTemperature\" : \"육지 최저 온도\", \"LandMinTemperatureUncertainty\" : \"육지 최저 온도 불확도\" ,\n",
    "                      \"LandAndOceanAverageTemperature\" : \"육지 바다 평균 온도\" , \"LandAndOceanAverageTemperatureUncertainty\" : \"육지 바다 평균 온도 불확도\",\n",
    "                      } ,inplace=True)"
   ]
  },
  {
   "cell_type": "code",
   "execution_count": 8,
   "id": "645203e8-b347-4379-a4d1-4bef0c3fbc2a",
   "metadata": {},
   "outputs": [],
   "source": [
    "주요_도시별_지구_온도.to_csv(\"주요_도시별_지구_온도.csv\",index=False)\n",
    "국가별_세계_평균_토지_온도.to_csv(\"국가별_세계_평균_토지_온도.csv\",index=False)\n",
    "도시별_지구_온도.to_csv(\"도시별_지구_온도.csv\",index=False)\n",
    "주별_지구_평균_토지_온도.to_csv(\"주별_지구_평균_토지_온도.csv\",index=False)\n",
    "지구_온도.to_csv(\"지구_온도.csv\",index=False)"
   ]
  },
  {
   "cell_type": "markdown",
   "id": "97427455-6172-4d6a-af0d-a7c04ba261f5",
   "metadata": {},
   "source": [
    "# 데이터 통합 최정 date set 저장"
   ]
  },
  {
   "cell_type": "code",
   "execution_count": 9,
   "id": "30e1dc4d-81a0-489a-b847-b8ff4569b769",
   "metadata": {},
   "outputs": [
    {
     "data": {
      "text/plain": [
       "pandas.core.series.Series"
      ]
     },
     "execution_count": 9,
     "metadata": {},
     "output_type": "execute_result"
    }
   ],
   "source": [
    "type(지구_온도[\"날짜\"])"
   ]
  },
  {
   "cell_type": "code",
   "execution_count": 10,
   "id": "61346674-c10a-4dab-8fb0-49b8ecca29c0",
   "metadata": {},
   "outputs": [],
   "source": [
    "from datetime import datetime"
   ]
  },
  {
   "cell_type": "code",
   "execution_count": 11,
   "id": "ec57a94b-9cc9-4130-8f04-fba487b9bf37",
   "metadata": {},
   "outputs": [],
   "source": [
    "지구_온도[\"날짜\"] = pd.to_datetime(지구_온도[\"날짜\"], format='%Y-%m-%d')"
   ]
  },
  {
   "cell_type": "code",
   "execution_count": 12,
   "id": "16e838b8-ff71-4a05-a116-72c71901b4ed",
   "metadata": {
    "scrolled": true
   },
   "outputs": [
    {
     "data": {
      "text/plain": [
       "pandas.core.series.Series"
      ]
     },
     "execution_count": 12,
     "metadata": {},
     "output_type": "execute_result"
    }
   ],
   "source": [
    "type(도시별_지구_온도[\"날짜\"])"
   ]
  },
  {
   "cell_type": "code",
   "execution_count": 13,
   "id": "fbf0e532-14b1-4a7b-90f5-c20f8629fc74",
   "metadata": {},
   "outputs": [],
   "source": [
    "도시별_지구_온도[\"날짜\"] = pd.to_datetime(도시별_지구_온도[\"날짜\"], format='%Y-%m-%d')"
   ]
  },
  {
   "cell_type": "code",
   "execution_count": 14,
   "id": "3f47b749-d939-4518-b52e-43c62315c178",
   "metadata": {},
   "outputs": [],
   "source": [
    "도시별_지구_온도[\"위도\"] = 도시별_지구_온도[\"위도\"].str.split(\"N\").str[0]\n",
    "도시별_지구_온도[\"경도\"] = 도시별_지구_온도[\"경도\"].str.split(\"E\").str[0]"
   ]
  },
  {
   "cell_type": "code",
   "execution_count": 15,
   "id": "f46d028d-7cec-47c2-ae49-ec0d3c75ec9f",
   "metadata": {},
   "outputs": [],
   "source": [
    "도시별_지구_온도.to_csv(\"도시별_지구_온도.csv\",index=False)"
   ]
  },
  {
   "cell_type": "code",
   "execution_count": 16,
   "id": "34724a99-9da5-4bbb-978b-fbeb4b90b1ac",
   "metadata": {},
   "outputs": [
    {
     "data": {
      "text/html": [
       "<div>\n",
       "<style scoped>\n",
       "    .dataframe tbody tr th:only-of-type {\n",
       "        vertical-align: middle;\n",
       "    }\n",
       "\n",
       "    .dataframe tbody tr th {\n",
       "        vertical-align: top;\n",
       "    }\n",
       "\n",
       "    .dataframe thead th {\n",
       "        text-align: right;\n",
       "    }\n",
       "</style>\n",
       "<table border=\"1\" class=\"dataframe\">\n",
       "  <thead>\n",
       "    <tr style=\"text-align: right;\">\n",
       "      <th></th>\n",
       "      <th>날짜</th>\n",
       "      <th>평균 온도</th>\n",
       "      <th>평균 온도 불확도</th>\n",
       "      <th>도시</th>\n",
       "      <th>국가</th>\n",
       "      <th>위도</th>\n",
       "      <th>경도</th>\n",
       "    </tr>\n",
       "  </thead>\n",
       "  <tbody>\n",
       "    <tr>\n",
       "      <th>0</th>\n",
       "      <td>1743-11-01</td>\n",
       "      <td>6.068</td>\n",
       "      <td>1.737</td>\n",
       "      <td>Århus</td>\n",
       "      <td>Denmark</td>\n",
       "      <td>57.05</td>\n",
       "      <td>10.33</td>\n",
       "    </tr>\n",
       "  </tbody>\n",
       "</table>\n",
       "</div>"
      ],
      "text/plain": [
       "          날짜  평균 온도  평균 온도 불확도     도시       국가     위도     경도\n",
       "0 1743-11-01  6.068      1.737  Århus  Denmark  57.05  10.33"
      ]
     },
     "execution_count": 16,
     "metadata": {},
     "output_type": "execute_result"
    }
   ],
   "source": [
    "도시별_지구_온도.head(1)"
   ]
  },
  {
   "cell_type": "code",
   "execution_count": 17,
   "id": "295af727-7c64-4572-a18c-be5814c9667e",
   "metadata": {},
   "outputs": [],
   "source": [
    "온도 = 도시별_지구_온도.merge(지구_온도, on=\"날짜\", how=\"outer\")"
   ]
  },
  {
   "cell_type": "code",
   "execution_count": 18,
   "id": "a8e627ba-18af-4425-9e1e-f9d1f93ec5f4",
   "metadata": {},
   "outputs": [],
   "source": [
    "온도.to_csv(\"온도.csv\",index=False)"
   ]
  },
  {
   "cell_type": "markdown",
   "id": "63e325ca-6703-41de-b428-30fe17fa970d",
   "metadata": {},
   "source": [
    "# 데이터 전처리"
   ]
  },
  {
   "cell_type": "markdown",
   "id": "4c5b9c0f-f4a3-4a35-b9aa-e961b2aa87b0",
   "metadata": {},
   "source": [
    "온도 #1743-11-01 ~ #2015-12-01"
   ]
  },
  {
   "cell_type": "code",
   "execution_count": 19,
   "id": "fa4b3642-49f7-44d3-be62-de4c596acb16",
   "metadata": {},
   "outputs": [],
   "source": [
    "import pandas as pd"
   ]
  },
  {
   "cell_type": "code",
   "execution_count": 20,
   "id": "a7e92148-00c7-45fb-a58d-4512a4e39311",
   "metadata": {},
   "outputs": [],
   "source": [
    "# 정답_온도 = pd.read_csv(\"./city_temperature_answer.csv\") #low_memory\n",
    "정답_온도 = pd.read_csv(\"./city_temperature_answer.csv\", dtype={'column_name': object}, low_memory=False)"
   ]
  },
  {
   "cell_type": "code",
   "execution_count": 21,
   "id": "010fcffc-34f2-496b-a356-91ed9e2f679b",
   "metadata": {},
   "outputs": [
    {
     "data": {
      "text/html": [
       "<div>\n",
       "<style scoped>\n",
       "    .dataframe tbody tr th:only-of-type {\n",
       "        vertical-align: middle;\n",
       "    }\n",
       "\n",
       "    .dataframe tbody tr th {\n",
       "        vertical-align: top;\n",
       "    }\n",
       "\n",
       "    .dataframe thead th {\n",
       "        text-align: right;\n",
       "    }\n",
       "</style>\n",
       "<table border=\"1\" class=\"dataframe\">\n",
       "  <thead>\n",
       "    <tr style=\"text-align: right;\">\n",
       "      <th></th>\n",
       "      <th>Region</th>\n",
       "      <th>Country</th>\n",
       "      <th>State</th>\n",
       "      <th>City</th>\n",
       "      <th>Month</th>\n",
       "      <th>Day</th>\n",
       "      <th>Year</th>\n",
       "      <th>AvgTemperature</th>\n",
       "    </tr>\n",
       "  </thead>\n",
       "  <tbody>\n",
       "    <tr>\n",
       "      <th>0</th>\n",
       "      <td>Africa</td>\n",
       "      <td>Algeria</td>\n",
       "      <td>NaN</td>\n",
       "      <td>Algiers</td>\n",
       "      <td>1.0</td>\n",
       "      <td>1.0</td>\n",
       "      <td>1995.0</td>\n",
       "      <td>64.2</td>\n",
       "    </tr>\n",
       "  </tbody>\n",
       "</table>\n",
       "</div>"
      ],
      "text/plain": [
       "   Region  Country State     City  Month  Day    Year  AvgTemperature\n",
       "0  Africa  Algeria   NaN  Algiers    1.0  1.0  1995.0            64.2"
      ]
     },
     "execution_count": 21,
     "metadata": {},
     "output_type": "execute_result"
    }
   ],
   "source": [
    "정답_온도.head(1)"
   ]
  },
  {
   "cell_type": "code",
   "execution_count": 22,
   "id": "43b003db-f996-4206-802b-c84ea212789b",
   "metadata": {},
   "outputs": [],
   "source": [
    "온도 = pd.read_csv(\"./온도.csv\",low_memory=False)"
   ]
  },
  {
   "cell_type": "markdown",
   "id": "6a5d6981-fbac-47a5-8635-8c3b799e2354",
   "metadata": {},
   "source": [
    "지구_온도 #1750 01 01 2015 12 01\n",
    "도시별_지구_온도 #1743-11-01 2013-09-01"
   ]
  },
  {
   "cell_type": "code",
   "execution_count": 23,
   "id": "fdac7487-1e42-439e-80b9-fb6dc9c4e4b5",
   "metadata": {},
   "outputs": [],
   "source": [
    "도시별_지구_온도 = pd.read_csv(\"./도시별_지구_온도.csv\",low_memory=False)"
   ]
  },
  {
   "cell_type": "code",
   "execution_count": 24,
   "id": "ad9daf88-20ae-4e14-9760-f3161a1f2158",
   "metadata": {},
   "outputs": [
    {
     "data": {
      "text/html": [
       "<div>\n",
       "<style scoped>\n",
       "    .dataframe tbody tr th:only-of-type {\n",
       "        vertical-align: middle;\n",
       "    }\n",
       "\n",
       "    .dataframe tbody tr th {\n",
       "        vertical-align: top;\n",
       "    }\n",
       "\n",
       "    .dataframe thead th {\n",
       "        text-align: right;\n",
       "    }\n",
       "</style>\n",
       "<table border=\"1\" class=\"dataframe\">\n",
       "  <thead>\n",
       "    <tr style=\"text-align: right;\">\n",
       "      <th></th>\n",
       "      <th>날짜</th>\n",
       "      <th>평균 온도</th>\n",
       "      <th>평균 온도 불확도</th>\n",
       "      <th>도시</th>\n",
       "      <th>국가</th>\n",
       "      <th>위도</th>\n",
       "      <th>경도</th>\n",
       "    </tr>\n",
       "  </thead>\n",
       "  <tbody>\n",
       "    <tr>\n",
       "      <th>0</th>\n",
       "      <td>1743-11-01</td>\n",
       "      <td>6.068</td>\n",
       "      <td>1.737</td>\n",
       "      <td>Århus</td>\n",
       "      <td>Denmark</td>\n",
       "      <td>57.05</td>\n",
       "      <td>10.33</td>\n",
       "    </tr>\n",
       "  </tbody>\n",
       "</table>\n",
       "</div>"
      ],
      "text/plain": [
       "           날짜  평균 온도  평균 온도 불확도     도시       국가     위도     경도\n",
       "0  1743-11-01  6.068      1.737  Århus  Denmark  57.05  10.33"
      ]
     },
     "execution_count": 24,
     "metadata": {},
     "output_type": "execute_result"
    }
   ],
   "source": [
    "도시별_지구_온도.head(1)"
   ]
  },
  {
   "cell_type": "code",
   "execution_count": 26,
   "id": "c612bf51-4858-4037-89da-92904b756f3d",
   "metadata": {},
   "outputs": [
    {
     "data": {
      "text/html": [
       "<div>\n",
       "<style scoped>\n",
       "    .dataframe tbody tr th:only-of-type {\n",
       "        vertical-align: middle;\n",
       "    }\n",
       "\n",
       "    .dataframe tbody tr th {\n",
       "        vertical-align: top;\n",
       "    }\n",
       "\n",
       "    .dataframe thead th {\n",
       "        text-align: right;\n",
       "    }\n",
       "</style>\n",
       "<table border=\"1\" class=\"dataframe\">\n",
       "  <thead>\n",
       "    <tr style=\"text-align: right;\">\n",
       "      <th></th>\n",
       "      <th>날짜</th>\n",
       "      <th>평균 온도</th>\n",
       "      <th>평균 온도 불확도</th>\n",
       "      <th>도시</th>\n",
       "      <th>국가</th>\n",
       "      <th>위도</th>\n",
       "      <th>경도</th>\n",
       "    </tr>\n",
       "  </thead>\n",
       "  <tbody>\n",
       "    <tr>\n",
       "      <th>2889440</th>\n",
       "      <td>2013-09-01</td>\n",
       "      <td>NaN</td>\n",
       "      <td>NaN</td>\n",
       "      <td>Haridwar</td>\n",
       "      <td>India</td>\n",
       "      <td>29.74</td>\n",
       "      <td>77.54</td>\n",
       "    </tr>\n",
       "    <tr>\n",
       "      <th>2895292</th>\n",
       "      <td>2013-09-01</td>\n",
       "      <td>NaN</td>\n",
       "      <td>NaN</td>\n",
       "      <td>Hassan</td>\n",
       "      <td>India</td>\n",
       "      <td>13.66</td>\n",
       "      <td>76.79</td>\n",
       "    </tr>\n",
       "    <tr>\n",
       "      <th>2897663</th>\n",
       "      <td>2013-09-01</td>\n",
       "      <td>NaN</td>\n",
       "      <td>NaN</td>\n",
       "      <td>Hat Yai</td>\n",
       "      <td>Thailand</td>\n",
       "      <td>7.23</td>\n",
       "      <td>99.73</td>\n",
       "    </tr>\n",
       "    <tr>\n",
       "      <th>2900276</th>\n",
       "      <td>2013-09-01</td>\n",
       "      <td>NaN</td>\n",
       "      <td>NaN</td>\n",
       "      <td>Hathras</td>\n",
       "      <td>India</td>\n",
       "      <td>28.13</td>\n",
       "      <td>77.27</td>\n",
       "    </tr>\n",
       "    <tr>\n",
       "      <th>2904866</th>\n",
       "      <td>2013-09-01</td>\n",
       "      <td>NaN</td>\n",
       "      <td>NaN</td>\n",
       "      <td>Hazaribag</td>\n",
       "      <td>India</td>\n",
       "      <td>23.31</td>\n",
       "      <td>84.76</td>\n",
       "    </tr>\n",
       "    <tr>\n",
       "      <th>2907184</th>\n",
       "      <td>2013-09-01</td>\n",
       "      <td>NaN</td>\n",
       "      <td>NaN</td>\n",
       "      <td>Hebi</td>\n",
       "      <td>China</td>\n",
       "      <td>36.17</td>\n",
       "      <td>113.37</td>\n",
       "    </tr>\n",
       "    <tr>\n",
       "      <th>2909257</th>\n",
       "      <td>2013-09-01</td>\n",
       "      <td>NaN</td>\n",
       "      <td>NaN</td>\n",
       "      <td>Hefei</td>\n",
       "      <td>China</td>\n",
       "      <td>31.35</td>\n",
       "      <td>116.86</td>\n",
       "    </tr>\n",
       "    <tr>\n",
       "      <th>2911470</th>\n",
       "      <td>2013-09-01</td>\n",
       "      <td>NaN</td>\n",
       "      <td>NaN</td>\n",
       "      <td>Hegang</td>\n",
       "      <td>China</td>\n",
       "      <td>47.42</td>\n",
       "      <td>131.45</td>\n",
       "    </tr>\n",
       "    <tr>\n",
       "      <th>2954724</th>\n",
       "      <td>2013-09-01</td>\n",
       "      <td>NaN</td>\n",
       "      <td>NaN</td>\n",
       "      <td>Hikone</td>\n",
       "      <td>Japan</td>\n",
       "      <td>34.56</td>\n",
       "      <td>136.22</td>\n",
       "    </tr>\n",
       "    <tr>\n",
       "      <th>2914709</th>\n",
       "      <td>2013-09-01</td>\n",
       "      <td>NaN</td>\n",
       "      <td>NaN</td>\n",
       "      <td>Heidelberg</td>\n",
       "      <td>Germany</td>\n",
       "      <td>49.03</td>\n",
       "      <td>9.80</td>\n",
       "    </tr>\n",
       "    <tr>\n",
       "      <th>2920266</th>\n",
       "      <td>2013-09-01</td>\n",
       "      <td>NaN</td>\n",
       "      <td>NaN</td>\n",
       "      <td>Heilbronn</td>\n",
       "      <td>Germany</td>\n",
       "      <td>49.03</td>\n",
       "      <td>9.80</td>\n",
       "    </tr>\n",
       "    <tr>\n",
       "      <th>2923505</th>\n",
       "      <td>2013-09-01</td>\n",
       "      <td>NaN</td>\n",
       "      <td>NaN</td>\n",
       "      <td>Helsinki</td>\n",
       "      <td>Finland</td>\n",
       "      <td>60.27</td>\n",
       "      <td>25.95</td>\n",
       "    </tr>\n",
       "    <tr>\n",
       "      <th>2927863</th>\n",
       "      <td>2013-09-01</td>\n",
       "      <td>NaN</td>\n",
       "      <td>NaN</td>\n",
       "      <td>Hengshan</td>\n",
       "      <td>China</td>\n",
       "      <td>45.81</td>\n",
       "      <td>130.38</td>\n",
       "    </tr>\n",
       "    <tr>\n",
       "      <th>2930181</th>\n",
       "      <td>2013-09-01</td>\n",
       "      <td>NaN</td>\n",
       "      <td>NaN</td>\n",
       "      <td>Hengshui</td>\n",
       "      <td>China</td>\n",
       "      <td>37.78</td>\n",
       "      <td>115.93</td>\n",
       "    </tr>\n",
       "    <tr>\n",
       "      <th>2932263</th>\n",
       "      <td>2013-09-01</td>\n",
       "      <td>NaN</td>\n",
       "      <td>NaN</td>\n",
       "      <td>Hengyang</td>\n",
       "      <td>China</td>\n",
       "      <td>26.52</td>\n",
       "      <td>112.84</td>\n",
       "    </tr>\n",
       "    <tr>\n",
       "      <th>2934876</th>\n",
       "      <td>2013-09-01</td>\n",
       "      <td>NaN</td>\n",
       "      <td>NaN</td>\n",
       "      <td>Henzada</td>\n",
       "      <td>Burma</td>\n",
       "      <td>16.87</td>\n",
       "      <td>95.44</td>\n",
       "    </tr>\n",
       "    <tr>\n",
       "      <th>2936991</th>\n",
       "      <td>2013-09-01</td>\n",
       "      <td>NaN</td>\n",
       "      <td>NaN</td>\n",
       "      <td>Herat</td>\n",
       "      <td>Afghanistan</td>\n",
       "      <td>34.56</td>\n",
       "      <td>62.27</td>\n",
       "    </tr>\n",
       "    <tr>\n",
       "      <th>2942375</th>\n",
       "      <td>2013-09-01</td>\n",
       "      <td>NaN</td>\n",
       "      <td>NaN</td>\n",
       "      <td>Herne</td>\n",
       "      <td>Germany</td>\n",
       "      <td>52.24</td>\n",
       "      <td>7.88</td>\n",
       "    </tr>\n",
       "    <tr>\n",
       "      <th>2917027</th>\n",
       "      <td>2013-09-01</td>\n",
       "      <td>NaN</td>\n",
       "      <td>NaN</td>\n",
       "      <td>Heihe</td>\n",
       "      <td>Russia</td>\n",
       "      <td>50.63</td>\n",
       "      <td>128.03</td>\n",
       "    </tr>\n",
       "    <tr>\n",
       "      <th>8599211</th>\n",
       "      <td>2013-09-01</td>\n",
       "      <td>NaN</td>\n",
       "      <td>NaN</td>\n",
       "      <td>Zwolle</td>\n",
       "      <td>Netherlands</td>\n",
       "      <td>52.24</td>\n",
       "      <td>5.26</td>\n",
       "    </tr>\n",
       "  </tbody>\n",
       "</table>\n",
       "</div>"
      ],
      "text/plain": [
       "                 날짜  평균 온도  평균 온도 불확도          도시           국가     위도      경도\n",
       "2889440  2013-09-01    NaN        NaN    Haridwar        India  29.74   77.54\n",
       "2895292  2013-09-01    NaN        NaN      Hassan        India  13.66   76.79\n",
       "2897663  2013-09-01    NaN        NaN     Hat Yai     Thailand   7.23   99.73\n",
       "2900276  2013-09-01    NaN        NaN     Hathras        India  28.13   77.27\n",
       "2904866  2013-09-01    NaN        NaN   Hazaribag        India  23.31   84.76\n",
       "2907184  2013-09-01    NaN        NaN        Hebi        China  36.17  113.37\n",
       "2909257  2013-09-01    NaN        NaN       Hefei        China  31.35  116.86\n",
       "2911470  2013-09-01    NaN        NaN      Hegang        China  47.42  131.45\n",
       "2954724  2013-09-01    NaN        NaN      Hikone        Japan  34.56  136.22\n",
       "2914709  2013-09-01    NaN        NaN  Heidelberg      Germany  49.03    9.80\n",
       "2920266  2013-09-01    NaN        NaN   Heilbronn      Germany  49.03    9.80\n",
       "2923505  2013-09-01    NaN        NaN    Helsinki      Finland  60.27   25.95\n",
       "2927863  2013-09-01    NaN        NaN    Hengshan        China  45.81  130.38\n",
       "2930181  2013-09-01    NaN        NaN    Hengshui        China  37.78  115.93\n",
       "2932263  2013-09-01    NaN        NaN    Hengyang        China  26.52  112.84\n",
       "2934876  2013-09-01    NaN        NaN     Henzada        Burma  16.87   95.44\n",
       "2936991  2013-09-01    NaN        NaN       Herat  Afghanistan  34.56   62.27\n",
       "2942375  2013-09-01    NaN        NaN       Herne      Germany  52.24    7.88\n",
       "2917027  2013-09-01    NaN        NaN       Heihe       Russia  50.63  128.03\n",
       "8599211  2013-09-01    NaN        NaN      Zwolle  Netherlands  52.24    5.26"
      ]
     },
     "execution_count": 26,
     "metadata": {},
     "output_type": "execute_result"
    }
   ],
   "source": [
    "# 도시별_지구_온도\n",
    "도시별_지구_온도[도시별_지구_온도[\"평균 온도\"].isna()].sort_values(\"날짜\").tail(20)"
   ]
  },
  {
   "cell_type": "code",
   "execution_count": 25,
   "id": "828b6c20-a145-4db2-b4dc-faf52bfcedc3",
   "metadata": {},
   "outputs": [
    {
     "data": {
      "text/plain": [
       "날짜                       0\n",
       "평균 온도               364157\n",
       "평균 온도 불확도           364157\n",
       "도시                      27\n",
       "국가                      27\n",
       "위도                      27\n",
       "경도                      27\n",
       "육지 평균 온도             60728\n",
       "육지 평균 온도 불확도         60728\n",
       "육지 최고 온도           1737451\n",
       "육지 최고 온도 불확도       1737451\n",
       "육지 최저 온도           1737451\n",
       "육지 최저 온도 불확도       1737451\n",
       "육지 바다 평균 온도        1737451\n",
       "육지 바다 평균 온도 불확도    1737451\n",
       "dtype: int64"
      ]
     },
     "execution_count": 25,
     "metadata": {},
     "output_type": "execute_result"
    }
   ],
   "source": [
    "온도.isnull().sum()"
   ]
  },
  {
   "cell_type": "markdown",
   "id": "c90b950e-8f0e-49b6-99c0-5df5ac4a8bc5",
   "metadata": {},
   "source": [
    "데이터 클러스터링 -> KNN -> 다중회귀"
   ]
  }
 ],
 "metadata": {
  "kernelspec": {
   "display_name": "Python 3 (ipykernel)",
   "language": "python",
   "name": "python3"
  },
  "language_info": {
   "codemirror_mode": {
    "name": "ipython",
    "version": 3
   },
   "file_extension": ".py",
   "mimetype": "text/x-python",
   "name": "python",
   "nbconvert_exporter": "python",
   "pygments_lexer": "ipython3",
   "version": "3.10.14"
  }
 },
 "nbformat": 4,
 "nbformat_minor": 5
}

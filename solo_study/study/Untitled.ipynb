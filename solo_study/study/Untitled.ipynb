{
 "cells": [
  {
   "cell_type": "markdown",
   "id": "3a8e7da5-c3f7-4aec-93ba-f3e02206040a",
   "metadata": {},
   "source": [
    "# 데이터 전처리 및 저장"
   ]
  },
  {
   "cell_type": "code",
   "execution_count": 1,
   "id": "ba4490ea-14e7-4328-a806-6ed9e8baf6ba",
   "metadata": {},
   "outputs": [],
   "source": [
    "import pandas as pd"
   ]
  },
  {
   "cell_type": "code",
   "execution_count": 2,
   "id": "ea2cc487-f598-4c5d-9297-d828355377f9",
   "metadata": {},
   "outputs": [],
   "source": [
    "정답_온도 = pd.read_csv(\"./city_temperature_answer.csv\", dtype={'column_name': object}, low_memory=False)\n",
    "도시별_지구_온도 = pd.read_csv(\"./도시별_지구_온도.csv\",low_memory=False)\n",
    "온도 = pd.read_csv(\"./온도.csv\",low_memory=False)"
   ]
  },
  {
   "cell_type": "code",
   "execution_count": 3,
   "id": "8f47f0f9-42ea-41e6-8502-67f5a6dcd26c",
   "metadata": {},
   "outputs": [
    {
     "data": {
      "text/html": [
       "<div>\n",
       "<style scoped>\n",
       "    .dataframe tbody tr th:only-of-type {\n",
       "        vertical-align: middle;\n",
       "    }\n",
       "\n",
       "    .dataframe tbody tr th {\n",
       "        vertical-align: top;\n",
       "    }\n",
       "\n",
       "    .dataframe thead th {\n",
       "        text-align: right;\n",
       "    }\n",
       "</style>\n",
       "<table border=\"1\" class=\"dataframe\">\n",
       "  <thead>\n",
       "    <tr style=\"text-align: right;\">\n",
       "      <th></th>\n",
       "      <th>Region</th>\n",
       "      <th>Country</th>\n",
       "      <th>State</th>\n",
       "      <th>City</th>\n",
       "      <th>Month</th>\n",
       "      <th>Day</th>\n",
       "      <th>Year</th>\n",
       "      <th>AvgTemperature</th>\n",
       "    </tr>\n",
       "  </thead>\n",
       "  <tbody>\n",
       "    <tr>\n",
       "      <th>0</th>\n",
       "      <td>Africa</td>\n",
       "      <td>Algeria</td>\n",
       "      <td>NaN</td>\n",
       "      <td>Algiers</td>\n",
       "      <td>1.0</td>\n",
       "      <td>1.0</td>\n",
       "      <td>1995.0</td>\n",
       "      <td>64.2</td>\n",
       "    </tr>\n",
       "  </tbody>\n",
       "</table>\n",
       "</div>"
      ],
      "text/plain": [
       "   Region  Country State     City  Month  Day    Year  AvgTemperature\n",
       "0  Africa  Algeria   NaN  Algiers    1.0  1.0  1995.0            64.2"
      ]
     },
     "execution_count": 3,
     "metadata": {},
     "output_type": "execute_result"
    }
   ],
   "source": [
    "정답_온도.head(1)"
   ]
  },
  {
   "cell_type": "code",
   "execution_count": 4,
   "id": "6d726314-b2e4-44ad-a1b5-6146735b04ca",
   "metadata": {},
   "outputs": [],
   "source": [
    "정답_온도 = 정답_온도[:-1]"
   ]
  },
  {
   "cell_type": "code",
   "execution_count": 5,
   "id": "e2043a62-813c-47c6-81e5-289da7608340",
   "metadata": {},
   "outputs": [
    {
     "data": {
      "text/plain": [
       "Region                  0\n",
       "Country                 0\n",
       "State             1450990\n",
       "City                    0\n",
       "Month                   0\n",
       "Day                     0\n",
       "Year                    0\n",
       "AvgTemperature          0\n",
       "dtype: int64"
      ]
     },
     "execution_count": 5,
     "metadata": {},
     "output_type": "execute_result"
    }
   ],
   "source": [
    "정답_온도.isna().sum()"
   ]
  },
  {
   "cell_type": "code",
   "execution_count": 6,
   "id": "4a1e407c-712f-48af-887b-de4f232082c8",
   "metadata": {},
   "outputs": [
    {
     "data": {
      "text/plain": [
       "array([ 1.,  2.,  3.,  4.,  5.,  6.,  7.,  8.,  9., 10., 11., 12., 13.,\n",
       "       14., 15., 16., 17., 18., 19., 20., 21., 22., 23., 24., 25., 26.,\n",
       "       27., 28., 29., 30., 31.,  0.])"
      ]
     },
     "execution_count": 6,
     "metadata": {},
     "output_type": "execute_result"
    }
   ],
   "source": [
    "정답_온도[\"Day\"].unique()"
   ]
  },
  {
   "cell_type": "code",
   "execution_count": 7,
   "id": "0c9f248c-faec-4c6c-ac44-5e46c5731721",
   "metadata": {},
   "outputs": [
    {
     "data": {
      "text/html": [
       "<div>\n",
       "<style scoped>\n",
       "    .dataframe tbody tr th:only-of-type {\n",
       "        vertical-align: middle;\n",
       "    }\n",
       "\n",
       "    .dataframe tbody tr th {\n",
       "        vertical-align: top;\n",
       "    }\n",
       "\n",
       "    .dataframe thead th {\n",
       "        text-align: right;\n",
       "    }\n",
       "</style>\n",
       "<table border=\"1\" class=\"dataframe\">\n",
       "  <thead>\n",
       "    <tr style=\"text-align: right;\">\n",
       "      <th></th>\n",
       "      <th>Region</th>\n",
       "      <th>Country</th>\n",
       "      <th>State</th>\n",
       "      <th>City</th>\n",
       "      <th>Month</th>\n",
       "      <th>Day</th>\n",
       "      <th>Year</th>\n",
       "      <th>AvgTemperature</th>\n",
       "    </tr>\n",
       "  </thead>\n",
       "  <tbody>\n",
       "    <tr>\n",
       "      <th>82774</th>\n",
       "      <td>Africa</td>\n",
       "      <td>Guinea</td>\n",
       "      <td>NaN</td>\n",
       "      <td>Conakry</td>\n",
       "      <td>3.0</td>\n",
       "      <td>0.0</td>\n",
       "      <td>2008.0</td>\n",
       "      <td>-99.0</td>\n",
       "    </tr>\n",
       "    <tr>\n",
       "      <th>85697</th>\n",
       "      <td>Africa</td>\n",
       "      <td>Guinea</td>\n",
       "      <td>NaN</td>\n",
       "      <td>Conakry</td>\n",
       "      <td>3.0</td>\n",
       "      <td>0.0</td>\n",
       "      <td>2016.0</td>\n",
       "      <td>-99.0</td>\n",
       "    </tr>\n",
       "    <tr>\n",
       "      <th>92041</th>\n",
       "      <td>Africa</td>\n",
       "      <td>Guinea-Bissau</td>\n",
       "      <td>NaN</td>\n",
       "      <td>Bissau</td>\n",
       "      <td>3.0</td>\n",
       "      <td>0.0</td>\n",
       "      <td>2008.0</td>\n",
       "      <td>-99.0</td>\n",
       "    </tr>\n",
       "    <tr>\n",
       "      <th>146077</th>\n",
       "      <td>Africa</td>\n",
       "      <td>Malawi</td>\n",
       "      <td>NaN</td>\n",
       "      <td>Lilongwe</td>\n",
       "      <td>3.0</td>\n",
       "      <td>0.0</td>\n",
       "      <td>2012.0</td>\n",
       "      <td>-99.0</td>\n",
       "    </tr>\n",
       "    <tr>\n",
       "      <th>177862</th>\n",
       "      <td>Africa</td>\n",
       "      <td>Nigeria</td>\n",
       "      <td>NaN</td>\n",
       "      <td>Lagos</td>\n",
       "      <td>3.0</td>\n",
       "      <td>0.0</td>\n",
       "      <td>2008.0</td>\n",
       "      <td>-99.0</td>\n",
       "    </tr>\n",
       "    <tr>\n",
       "      <th>241159</th>\n",
       "      <td>Africa</td>\n",
       "      <td>Uganda</td>\n",
       "      <td>NaN</td>\n",
       "      <td>Kampala</td>\n",
       "      <td>3.0</td>\n",
       "      <td>0.0</td>\n",
       "      <td>2012.0</td>\n",
       "      <td>-99.0</td>\n",
       "    </tr>\n",
       "    <tr>\n",
       "      <th>1209901</th>\n",
       "      <td>North America</td>\n",
       "      <td>Mexico</td>\n",
       "      <td>NaN</td>\n",
       "      <td>Guadalajara</td>\n",
       "      <td>3.0</td>\n",
       "      <td>0.0</td>\n",
       "      <td>2012.0</td>\n",
       "      <td>-99.0</td>\n",
       "    </tr>\n",
       "    <tr>\n",
       "      <th>1333910</th>\n",
       "      <td>South/Central America &amp; Carribean</td>\n",
       "      <td>Cuba</td>\n",
       "      <td>NaN</td>\n",
       "      <td>Havana</td>\n",
       "      <td>3.0</td>\n",
       "      <td>0.0</td>\n",
       "      <td>2008.0</td>\n",
       "      <td>-99.0</td>\n",
       "    </tr>\n",
       "  </tbody>\n",
       "</table>\n",
       "</div>"
      ],
      "text/plain": [
       "                                    Region        Country State         City  \\\n",
       "82774                               Africa         Guinea   NaN      Conakry   \n",
       "85697                               Africa         Guinea   NaN      Conakry   \n",
       "92041                               Africa  Guinea-Bissau   NaN       Bissau   \n",
       "146077                              Africa         Malawi   NaN     Lilongwe   \n",
       "177862                              Africa        Nigeria   NaN        Lagos   \n",
       "241159                              Africa         Uganda   NaN      Kampala   \n",
       "1209901                      North America         Mexico   NaN  Guadalajara   \n",
       "1333910  South/Central America & Carribean           Cuba   NaN       Havana   \n",
       "\n",
       "         Month  Day    Year  AvgTemperature  \n",
       "82774      3.0  0.0  2008.0           -99.0  \n",
       "85697      3.0  0.0  2016.0           -99.0  \n",
       "92041      3.0  0.0  2008.0           -99.0  \n",
       "146077     3.0  0.0  2012.0           -99.0  \n",
       "177862     3.0  0.0  2008.0           -99.0  \n",
       "241159     3.0  0.0  2012.0           -99.0  \n",
       "1209901    3.0  0.0  2012.0           -99.0  \n",
       "1333910    3.0  0.0  2008.0           -99.0  "
      ]
     },
     "execution_count": 7,
     "metadata": {},
     "output_type": "execute_result"
    }
   ],
   "source": [
    "정답_온도[정답_온도[\"Day\"]==0.0]"
   ]
  },
  {
   "cell_type": "code",
   "execution_count": 8,
   "id": "54ab7cfe-426f-4d47-8ac7-2fc71918fbda",
   "metadata": {},
   "outputs": [],
   "source": [
    "erase_index = list(정답_온도[정답_온도[\"Day\"]==0.0].index)"
   ]
  },
  {
   "cell_type": "code",
   "execution_count": 9,
   "id": "671cc92f-a336-4873-8cd3-9c57b98d169f",
   "metadata": {},
   "outputs": [
    {
     "data": {
      "text/plain": [
       "list"
      ]
     },
     "execution_count": 9,
     "metadata": {},
     "output_type": "execute_result"
    }
   ],
   "source": [
    "type(erase_index)"
   ]
  },
  {
   "cell_type": "code",
   "execution_count": 10,
   "id": "59dfb3bb-3400-40db-9b14-8d461d487b40",
   "metadata": {},
   "outputs": [
    {
     "data": {
      "text/plain": [
       "array([1995., 1996., 1997., 1998., 1999., 2000., 2001., 2002., 2003.,\n",
       "       2004., 2005., 2006., 2007., 2008., 2009., 2010., 2011., 2012.,\n",
       "       2013., 2014., 2015., 2016., 2017., 2018., 2019., 2020.,  201.,\n",
       "        200.])"
      ]
     },
     "execution_count": 10,
     "metadata": {},
     "output_type": "execute_result"
    }
   ],
   "source": [
    "정답_온도[\"Year\"].unique()"
   ]
  },
  {
   "cell_type": "code",
   "execution_count": 11,
   "id": "f7708f8a-68af-4696-bda4-bf8c86b88c1b",
   "metadata": {},
   "outputs": [
    {
     "data": {
      "text/html": [
       "<div>\n",
       "<style scoped>\n",
       "    .dataframe tbody tr th:only-of-type {\n",
       "        vertical-align: middle;\n",
       "    }\n",
       "\n",
       "    .dataframe tbody tr th {\n",
       "        vertical-align: top;\n",
       "    }\n",
       "\n",
       "    .dataframe thead th {\n",
       "        text-align: right;\n",
       "    }\n",
       "</style>\n",
       "<table border=\"1\" class=\"dataframe\">\n",
       "  <thead>\n",
       "    <tr style=\"text-align: right;\">\n",
       "      <th></th>\n",
       "      <th>Region</th>\n",
       "      <th>Country</th>\n",
       "      <th>State</th>\n",
       "      <th>City</th>\n",
       "      <th>Month</th>\n",
       "      <th>Day</th>\n",
       "      <th>Year</th>\n",
       "      <th>AvgTemperature</th>\n",
       "    </tr>\n",
       "  </thead>\n",
       "  <tbody>\n",
       "    <tr>\n",
       "      <th>58178</th>\n",
       "      <td>Africa</td>\n",
       "      <td>Ethiopia</td>\n",
       "      <td>NaN</td>\n",
       "      <td>Addis Ababa</td>\n",
       "      <td>12.0</td>\n",
       "      <td>3.0</td>\n",
       "      <td>201.0</td>\n",
       "      <td>-99.0</td>\n",
       "    </tr>\n",
       "    <tr>\n",
       "      <th>58179</th>\n",
       "      <td>Africa</td>\n",
       "      <td>Ethiopia</td>\n",
       "      <td>NaN</td>\n",
       "      <td>Addis Ababa</td>\n",
       "      <td>12.0</td>\n",
       "      <td>4.0</td>\n",
       "      <td>201.0</td>\n",
       "      <td>-99.0</td>\n",
       "    </tr>\n",
       "    <tr>\n",
       "      <th>58180</th>\n",
       "      <td>Africa</td>\n",
       "      <td>Ethiopia</td>\n",
       "      <td>NaN</td>\n",
       "      <td>Addis Ababa</td>\n",
       "      <td>12.0</td>\n",
       "      <td>5.0</td>\n",
       "      <td>201.0</td>\n",
       "      <td>-99.0</td>\n",
       "    </tr>\n",
       "    <tr>\n",
       "      <th>58181</th>\n",
       "      <td>Africa</td>\n",
       "      <td>Ethiopia</td>\n",
       "      <td>NaN</td>\n",
       "      <td>Addis Ababa</td>\n",
       "      <td>12.0</td>\n",
       "      <td>6.0</td>\n",
       "      <td>201.0</td>\n",
       "      <td>-99.0</td>\n",
       "    </tr>\n",
       "    <tr>\n",
       "      <th>58182</th>\n",
       "      <td>Africa</td>\n",
       "      <td>Ethiopia</td>\n",
       "      <td>NaN</td>\n",
       "      <td>Addis Ababa</td>\n",
       "      <td>12.0</td>\n",
       "      <td>7.0</td>\n",
       "      <td>201.0</td>\n",
       "      <td>-99.0</td>\n",
       "    </tr>\n",
       "    <tr>\n",
       "      <th>...</th>\n",
       "      <td>...</td>\n",
       "      <td>...</td>\n",
       "      <td>...</td>\n",
       "      <td>...</td>\n",
       "      <td>...</td>\n",
       "      <td>...</td>\n",
       "      <td>...</td>\n",
       "      <td>...</td>\n",
       "    </tr>\n",
       "    <tr>\n",
       "      <th>1212427</th>\n",
       "      <td>North America</td>\n",
       "      <td>Mexico</td>\n",
       "      <td>NaN</td>\n",
       "      <td>Guadalajara</td>\n",
       "      <td>12.0</td>\n",
       "      <td>27.0</td>\n",
       "      <td>201.0</td>\n",
       "      <td>-99.0</td>\n",
       "    </tr>\n",
       "    <tr>\n",
       "      <th>1212428</th>\n",
       "      <td>North America</td>\n",
       "      <td>Mexico</td>\n",
       "      <td>NaN</td>\n",
       "      <td>Guadalajara</td>\n",
       "      <td>12.0</td>\n",
       "      <td>28.0</td>\n",
       "      <td>201.0</td>\n",
       "      <td>-99.0</td>\n",
       "    </tr>\n",
       "    <tr>\n",
       "      <th>1212429</th>\n",
       "      <td>North America</td>\n",
       "      <td>Mexico</td>\n",
       "      <td>NaN</td>\n",
       "      <td>Guadalajara</td>\n",
       "      <td>12.0</td>\n",
       "      <td>29.0</td>\n",
       "      <td>201.0</td>\n",
       "      <td>-99.0</td>\n",
       "    </tr>\n",
       "    <tr>\n",
       "      <th>1212430</th>\n",
       "      <td>North America</td>\n",
       "      <td>Mexico</td>\n",
       "      <td>NaN</td>\n",
       "      <td>Guadalajara</td>\n",
       "      <td>12.0</td>\n",
       "      <td>30.0</td>\n",
       "      <td>201.0</td>\n",
       "      <td>-99.0</td>\n",
       "    </tr>\n",
       "    <tr>\n",
       "      <th>1212431</th>\n",
       "      <td>North America</td>\n",
       "      <td>Mexico</td>\n",
       "      <td>NaN</td>\n",
       "      <td>Guadalajara</td>\n",
       "      <td>12.0</td>\n",
       "      <td>31.0</td>\n",
       "      <td>201.0</td>\n",
       "      <td>-99.0</td>\n",
       "    </tr>\n",
       "  </tbody>\n",
       "</table>\n",
       "<p>351 rows × 8 columns</p>\n",
       "</div>"
      ],
      "text/plain": [
       "                Region   Country State         City  Month   Day   Year  \\\n",
       "58178           Africa  Ethiopia   NaN  Addis Ababa   12.0   3.0  201.0   \n",
       "58179           Africa  Ethiopia   NaN  Addis Ababa   12.0   4.0  201.0   \n",
       "58180           Africa  Ethiopia   NaN  Addis Ababa   12.0   5.0  201.0   \n",
       "58181           Africa  Ethiopia   NaN  Addis Ababa   12.0   6.0  201.0   \n",
       "58182           Africa  Ethiopia   NaN  Addis Ababa   12.0   7.0  201.0   \n",
       "...                ...       ...   ...          ...    ...   ...    ...   \n",
       "1212427  North America    Mexico   NaN  Guadalajara   12.0  27.0  201.0   \n",
       "1212428  North America    Mexico   NaN  Guadalajara   12.0  28.0  201.0   \n",
       "1212429  North America    Mexico   NaN  Guadalajara   12.0  29.0  201.0   \n",
       "1212430  North America    Mexico   NaN  Guadalajara   12.0  30.0  201.0   \n",
       "1212431  North America    Mexico   NaN  Guadalajara   12.0  31.0  201.0   \n",
       "\n",
       "         AvgTemperature  \n",
       "58178             -99.0  \n",
       "58179             -99.0  \n",
       "58180             -99.0  \n",
       "58181             -99.0  \n",
       "58182             -99.0  \n",
       "...                 ...  \n",
       "1212427           -99.0  \n",
       "1212428           -99.0  \n",
       "1212429           -99.0  \n",
       "1212430           -99.0  \n",
       "1212431           -99.0  \n",
       "\n",
       "[351 rows x 8 columns]"
      ]
     },
     "execution_count": 11,
     "metadata": {},
     "output_type": "execute_result"
    }
   ],
   "source": [
    "정답_온도[정답_온도[\"Year\"]==201.0]"
   ]
  },
  {
   "cell_type": "code",
   "execution_count": 12,
   "id": "d527d686-89fc-4a51-987e-6d3f56f6b470",
   "metadata": {},
   "outputs": [],
   "source": [
    "erase_index = erase_index + list(정답_온도[정답_온도[\"Year\"]==201.0].index)"
   ]
  },
  {
   "cell_type": "code",
   "execution_count": 13,
   "id": "8f03f3a7-2bce-4044-8a79-1ee481cefa70",
   "metadata": {},
   "outputs": [
    {
     "data": {
      "text/html": [
       "<div>\n",
       "<style scoped>\n",
       "    .dataframe tbody tr th:only-of-type {\n",
       "        vertical-align: middle;\n",
       "    }\n",
       "\n",
       "    .dataframe tbody tr th {\n",
       "        vertical-align: top;\n",
       "    }\n",
       "\n",
       "    .dataframe thead th {\n",
       "        text-align: right;\n",
       "    }\n",
       "</style>\n",
       "<table border=\"1\" class=\"dataframe\">\n",
       "  <thead>\n",
       "    <tr style=\"text-align: right;\">\n",
       "      <th></th>\n",
       "      <th>Region</th>\n",
       "      <th>Country</th>\n",
       "      <th>State</th>\n",
       "      <th>City</th>\n",
       "      <th>Month</th>\n",
       "      <th>Day</th>\n",
       "      <th>Year</th>\n",
       "      <th>AvgTemperature</th>\n",
       "    </tr>\n",
       "  </thead>\n",
       "  <tbody>\n",
       "    <tr>\n",
       "      <th>743367</th>\n",
       "      <td>Europe</td>\n",
       "      <td>Germany</td>\n",
       "      <td>NaN</td>\n",
       "      <td>Hamburg</td>\n",
       "      <td>12.0</td>\n",
       "      <td>3.0</td>\n",
       "      <td>200.0</td>\n",
       "      <td>-99.0</td>\n",
       "    </tr>\n",
       "    <tr>\n",
       "      <th>743368</th>\n",
       "      <td>Europe</td>\n",
       "      <td>Germany</td>\n",
       "      <td>NaN</td>\n",
       "      <td>Hamburg</td>\n",
       "      <td>12.0</td>\n",
       "      <td>4.0</td>\n",
       "      <td>200.0</td>\n",
       "      <td>-99.0</td>\n",
       "    </tr>\n",
       "    <tr>\n",
       "      <th>743369</th>\n",
       "      <td>Europe</td>\n",
       "      <td>Germany</td>\n",
       "      <td>NaN</td>\n",
       "      <td>Hamburg</td>\n",
       "      <td>12.0</td>\n",
       "      <td>5.0</td>\n",
       "      <td>200.0</td>\n",
       "      <td>-99.0</td>\n",
       "    </tr>\n",
       "    <tr>\n",
       "      <th>743370</th>\n",
       "      <td>Europe</td>\n",
       "      <td>Germany</td>\n",
       "      <td>NaN</td>\n",
       "      <td>Hamburg</td>\n",
       "      <td>12.0</td>\n",
       "      <td>6.0</td>\n",
       "      <td>200.0</td>\n",
       "      <td>-99.0</td>\n",
       "    </tr>\n",
       "    <tr>\n",
       "      <th>743371</th>\n",
       "      <td>Europe</td>\n",
       "      <td>Germany</td>\n",
       "      <td>NaN</td>\n",
       "      <td>Hamburg</td>\n",
       "      <td>12.0</td>\n",
       "      <td>7.0</td>\n",
       "      <td>200.0</td>\n",
       "      <td>-99.0</td>\n",
       "    </tr>\n",
       "    <tr>\n",
       "      <th>...</th>\n",
       "      <td>...</td>\n",
       "      <td>...</td>\n",
       "      <td>...</td>\n",
       "      <td>...</td>\n",
       "      <td>...</td>\n",
       "      <td>...</td>\n",
       "      <td>...</td>\n",
       "      <td>...</td>\n",
       "    </tr>\n",
       "    <tr>\n",
       "      <th>845935</th>\n",
       "      <td>Europe</td>\n",
       "      <td>Norway</td>\n",
       "      <td>NaN</td>\n",
       "      <td>Oslo</td>\n",
       "      <td>12.0</td>\n",
       "      <td>27.0</td>\n",
       "      <td>200.0</td>\n",
       "      <td>-99.0</td>\n",
       "    </tr>\n",
       "    <tr>\n",
       "      <th>845936</th>\n",
       "      <td>Europe</td>\n",
       "      <td>Norway</td>\n",
       "      <td>NaN</td>\n",
       "      <td>Oslo</td>\n",
       "      <td>12.0</td>\n",
       "      <td>28.0</td>\n",
       "      <td>200.0</td>\n",
       "      <td>-99.0</td>\n",
       "    </tr>\n",
       "    <tr>\n",
       "      <th>845937</th>\n",
       "      <td>Europe</td>\n",
       "      <td>Norway</td>\n",
       "      <td>NaN</td>\n",
       "      <td>Oslo</td>\n",
       "      <td>12.0</td>\n",
       "      <td>29.0</td>\n",
       "      <td>200.0</td>\n",
       "      <td>-99.0</td>\n",
       "    </tr>\n",
       "    <tr>\n",
       "      <th>845938</th>\n",
       "      <td>Europe</td>\n",
       "      <td>Norway</td>\n",
       "      <td>NaN</td>\n",
       "      <td>Oslo</td>\n",
       "      <td>12.0</td>\n",
       "      <td>30.0</td>\n",
       "      <td>200.0</td>\n",
       "      <td>-99.0</td>\n",
       "    </tr>\n",
       "    <tr>\n",
       "      <th>845939</th>\n",
       "      <td>Europe</td>\n",
       "      <td>Norway</td>\n",
       "      <td>NaN</td>\n",
       "      <td>Oslo</td>\n",
       "      <td>12.0</td>\n",
       "      <td>31.0</td>\n",
       "      <td>200.0</td>\n",
       "      <td>-99.0</td>\n",
       "    </tr>\n",
       "  </tbody>\n",
       "</table>\n",
       "<p>89 rows × 8 columns</p>\n",
       "</div>"
      ],
      "text/plain": [
       "        Region  Country State     City  Month   Day   Year  AvgTemperature\n",
       "743367  Europe  Germany   NaN  Hamburg   12.0   3.0  200.0           -99.0\n",
       "743368  Europe  Germany   NaN  Hamburg   12.0   4.0  200.0           -99.0\n",
       "743369  Europe  Germany   NaN  Hamburg   12.0   5.0  200.0           -99.0\n",
       "743370  Europe  Germany   NaN  Hamburg   12.0   6.0  200.0           -99.0\n",
       "743371  Europe  Germany   NaN  Hamburg   12.0   7.0  200.0           -99.0\n",
       "...        ...      ...   ...      ...    ...   ...    ...             ...\n",
       "845935  Europe   Norway   NaN     Oslo   12.0  27.0  200.0           -99.0\n",
       "845936  Europe   Norway   NaN     Oslo   12.0  28.0  200.0           -99.0\n",
       "845937  Europe   Norway   NaN     Oslo   12.0  29.0  200.0           -99.0\n",
       "845938  Europe   Norway   NaN     Oslo   12.0  30.0  200.0           -99.0\n",
       "845939  Europe   Norway   NaN     Oslo   12.0  31.0  200.0           -99.0\n",
       "\n",
       "[89 rows x 8 columns]"
      ]
     },
     "execution_count": 13,
     "metadata": {},
     "output_type": "execute_result"
    }
   ],
   "source": [
    "정답_온도[정답_온도[\"Year\"]==200.0]"
   ]
  },
  {
   "cell_type": "code",
   "execution_count": 14,
   "id": "73002041-8f80-4338-b70a-9f2d9e04bee7",
   "metadata": {},
   "outputs": [],
   "source": [
    "erase_index = erase_index + list(정답_온도[정답_온도[\"Year\"]==200.0].index)"
   ]
  },
  {
   "cell_type": "code",
   "execution_count": 16,
   "id": "c5e9c4df-7328-4227-81ac-eab6da9f4b04",
   "metadata": {},
   "outputs": [],
   "source": [
    "정답_온도.drop(index=erase_index, inplace=True)"
   ]
  },
  {
   "cell_type": "code",
   "execution_count": 17,
   "id": "2116cd31-2050-4043-ae7b-87de368242e7",
   "metadata": {},
   "outputs": [],
   "source": [
    "정답_온도[\"날짜\"] = pd.to_datetime(정답_온도[['Day', 'Month', 'Year']].astype(int))"
   ]
  },
  {
   "cell_type": "markdown",
   "id": "e611e6a2-dd6b-494c-af41-5e95ed3f7ab7",
   "metadata": {},
   "source": [
    "정답_온도.head(1)"
   ]
  },
  {
   "cell_type": "code",
   "execution_count": 26,
   "id": "79fdae02-a87c-4cd0-9cad-f2c7483afa95",
   "metadata": {},
   "outputs": [],
   "source": [
    "정답_온도 = 정답_온도[[\"Country\",\"City\",\"AvgTemperature\",\"날짜\"]]"
   ]
  },
  {
   "cell_type": "code",
   "execution_count": 30,
   "id": "2983361b-5e12-4852-89d7-028ad51c8e88",
   "metadata": {},
   "outputs": [
    {
     "data": {
      "text/html": [
       "<div>\n",
       "<style scoped>\n",
       "    .dataframe tbody tr th:only-of-type {\n",
       "        vertical-align: middle;\n",
       "    }\n",
       "\n",
       "    .dataframe tbody tr th {\n",
       "        vertical-align: top;\n",
       "    }\n",
       "\n",
       "    .dataframe thead th {\n",
       "        text-align: right;\n",
       "    }\n",
       "</style>\n",
       "<table border=\"1\" class=\"dataframe\">\n",
       "  <thead>\n",
       "    <tr style=\"text-align: right;\">\n",
       "      <th></th>\n",
       "      <th>Country</th>\n",
       "      <th>City</th>\n",
       "      <th>AvgTemperature</th>\n",
       "      <th>날짜</th>\n",
       "    </tr>\n",
       "  </thead>\n",
       "  <tbody>\n",
       "    <tr>\n",
       "      <th>0</th>\n",
       "      <td>Algeria</td>\n",
       "      <td>Algiers</td>\n",
       "      <td>64.2</td>\n",
       "      <td>1995-01-01</td>\n",
       "    </tr>\n",
       "  </tbody>\n",
       "</table>\n",
       "</div>"
      ],
      "text/plain": [
       "   Country     City  AvgTemperature         날짜\n",
       "0  Algeria  Algiers            64.2 1995-01-01"
      ]
     },
     "execution_count": 30,
     "metadata": {},
     "output_type": "execute_result"
    }
   ],
   "source": [
    "정답_온도.head(1)"
   ]
  },
  {
   "cell_type": "code",
   "execution_count": 31,
   "id": "78da1c51-74a4-47c1-9d1d-70f2ed4ff575",
   "metadata": {},
   "outputs": [
    {
     "name": "stderr",
     "output_type": "stream",
     "text": [
      "/tmp/ipykernel_3962/1159610053.py:1: SettingWithCopyWarning: \n",
      "A value is trying to be set on a copy of a slice from a DataFrame\n",
      "\n",
      "See the caveats in the documentation: https://pandas.pydata.org/pandas-docs/stable/user_guide/indexing.html#returning-a-view-versus-a-copy\n",
      "  정답_온도.rename(columns={\"Country\" : \"국가\" ,\"City\" : \"도시\" ,\"AvgTemperature\":\"평균 온도\"} ,inplace=True)\n"
     ]
    }
   ],
   "source": [
    "정답_온도.rename(columns={\"Country\" : \"국가\" ,\"City\" : \"도시\" ,\"AvgTemperature\":\"평균 온도\"} ,inplace=True)"
   ]
  },
  {
   "cell_type": "code",
   "execution_count": 33,
   "id": "a91a07f0-1df2-4628-ac0d-c077d352d66a",
   "metadata": {},
   "outputs": [],
   "source": [
    "정답_온도.to_csv(\"정답_온도.csv\",index=False)"
   ]
  },
  {
   "cell_type": "code",
   "execution_count": 47,
   "id": "d0f9e211-e927-4952-ac66-fed1642381a8",
   "metadata": {},
   "outputs": [],
   "source": [
    "정답_온도 = pd.read_csv(\"./정답_온도.csv\", dtype={'column_name': object}, low_memory=False)\n",
    "도시별_지구_온도 = pd.read_csv(\"./도시별_지구_온도.csv\",low_memory=False)\n",
    "온도 = pd.read_csv(\"./온도.csv\",low_memory=False)"
   ]
  },
  {
   "cell_type": "code",
   "execution_count": 50,
   "id": "a8af3450-8900-4cc7-b986-532cecfd4d23",
   "metadata": {},
   "outputs": [
    {
     "data": {
      "text/html": [
       "<div>\n",
       "<style scoped>\n",
       "    .dataframe tbody tr th:only-of-type {\n",
       "        vertical-align: middle;\n",
       "    }\n",
       "\n",
       "    .dataframe tbody tr th {\n",
       "        vertical-align: top;\n",
       "    }\n",
       "\n",
       "    .dataframe thead th {\n",
       "        text-align: right;\n",
       "    }\n",
       "</style>\n",
       "<table border=\"1\" class=\"dataframe\">\n",
       "  <thead>\n",
       "    <tr style=\"text-align: right;\">\n",
       "      <th></th>\n",
       "      <th>국가</th>\n",
       "      <th>도시</th>\n",
       "      <th>평균 온도</th>\n",
       "      <th>날짜</th>\n",
       "    </tr>\n",
       "  </thead>\n",
       "  <tbody>\n",
       "    <tr>\n",
       "      <th>0</th>\n",
       "      <td>Algeria</td>\n",
       "      <td>Algiers</td>\n",
       "      <td>64.2</td>\n",
       "      <td>1995-01-01</td>\n",
       "    </tr>\n",
       "  </tbody>\n",
       "</table>\n",
       "</div>"
      ],
      "text/plain": [
       "        국가       도시  평균 온도          날짜\n",
       "0  Algeria  Algiers   64.2  1995-01-01"
      ]
     },
     "execution_count": 50,
     "metadata": {},
     "output_type": "execute_result"
    }
   ],
   "source": [
    "정답_온도.head(1)"
   ]
  },
  {
   "cell_type": "code",
   "execution_count": 51,
   "id": "53110c0e-28d9-4762-9948-9977d15b4eca",
   "metadata": {},
   "outputs": [
    {
     "data": {
      "text/html": [
       "<div>\n",
       "<style scoped>\n",
       "    .dataframe tbody tr th:only-of-type {\n",
       "        vertical-align: middle;\n",
       "    }\n",
       "\n",
       "    .dataframe tbody tr th {\n",
       "        vertical-align: top;\n",
       "    }\n",
       "\n",
       "    .dataframe thead th {\n",
       "        text-align: right;\n",
       "    }\n",
       "</style>\n",
       "<table border=\"1\" class=\"dataframe\">\n",
       "  <thead>\n",
       "    <tr style=\"text-align: right;\">\n",
       "      <th></th>\n",
       "      <th>날짜</th>\n",
       "      <th>평균 온도</th>\n",
       "      <th>평균 온도 불확도</th>\n",
       "      <th>도시</th>\n",
       "      <th>국가</th>\n",
       "      <th>위도</th>\n",
       "      <th>경도</th>\n",
       "    </tr>\n",
       "  </thead>\n",
       "  <tbody>\n",
       "    <tr>\n",
       "      <th>0</th>\n",
       "      <td>1743-11-01</td>\n",
       "      <td>6.068</td>\n",
       "      <td>1.737</td>\n",
       "      <td>Århus</td>\n",
       "      <td>Denmark</td>\n",
       "      <td>57.05</td>\n",
       "      <td>10.33</td>\n",
       "    </tr>\n",
       "  </tbody>\n",
       "</table>\n",
       "</div>"
      ],
      "text/plain": [
       "           날짜  평균 온도  평균 온도 불확도     도시       국가     위도     경도\n",
       "0  1743-11-01  6.068      1.737  Århus  Denmark  57.05  10.33"
      ]
     },
     "execution_count": 51,
     "metadata": {},
     "output_type": "execute_result"
    }
   ],
   "source": [
    "도시별_지구_온도.head(1)"
   ]
  },
  {
   "cell_type": "code",
   "execution_count": 54,
   "id": "001ae449-a0ee-46de-9b85-415a17b71cbe",
   "metadata": {},
   "outputs": [],
   "source": [
    "도시별_지구_온도 = 도시별_지구_온도[도시별_지구_온도[\"날짜\"] >= \"1995-01-01\"]"
   ]
  },
  {
   "cell_type": "code",
   "execution_count": 55,
   "id": "463df01b-fe7f-4a2b-9f66-52f2ac6f04d2",
   "metadata": {},
   "outputs": [],
   "source": [
    "도시별_지구_온도.to_csv(\"도시별_지구_온도.csv\",index=False)"
   ]
  },
  {
   "cell_type": "markdown",
   "id": "5e1b8a33-ba20-4d85-8ffd-c1db41144eb4",
   "metadata": {},
   "source": [
    "# 데이터 전처리 nan값 조절"
   ]
  },
  {
   "cell_type": "code",
   "execution_count": 59,
   "id": "9c3916e8-2b93-42fc-a0fe-ad0589b7716e",
   "metadata": {},
   "outputs": [
    {
     "data": {
      "text/plain": [
       "(789750, 7)"
      ]
     },
     "execution_count": 59,
     "metadata": {},
     "output_type": "execute_result"
    }
   ],
   "source": [
    "도시별_지구_온도.shape"
   ]
  },
  {
   "cell_type": "code",
   "execution_count": 64,
   "id": "15466eb0-2665-405b-8e0e-0c30720a1e71",
   "metadata": {},
   "outputs": [],
   "source": [
    "# 도시별_지구_온도.isnull().sum()"
   ]
  },
  {
   "cell_type": "code",
   "execution_count": 63,
   "id": "4a42e81d-0224-47c3-a887-f7fbc057a5aa",
   "metadata": {},
   "outputs": [],
   "source": [
    "# 도시별_지구_온도[도시별_지구_온도[\"평균 온도\"].isnull()]\n",
    "# 2013-09-01 꺼만 없으므로 무시한다"
   ]
  },
  {
   "cell_type": "code",
   "execution_count": 69,
   "id": "c101e2d0-2ed0-4bfe-8ec7-df4d60f7b441",
   "metadata": {},
   "outputs": [],
   "source": [
    "온도 = 온도[온도[\"날짜\"] >= \"1995-01-01\"]"
   ]
  },
  {
   "cell_type": "code",
   "execution_count": 71,
   "id": "7f270018-c028-40a0-93f7-f7b15c9e2dae",
   "metadata": {},
   "outputs": [],
   "source": [
    "온도.to_csv(\"온도.csv\",index=False)"
   ]
  },
  {
   "cell_type": "markdown",
   "id": "a01a6b93-7b3c-47fe-b1a0-ae2ead5091c9",
   "metadata": {},
   "source": [
    "## 도시별_지구_온도 nan값 채워서 정답_온도와 비교하기"
   ]
  },
  {
   "cell_type": "code",
   "execution_count": 72,
   "id": "b65e7f62-48b6-4973-b6b1-b0b81f642200",
   "metadata": {},
   "outputs": [],
   "source": [
    "정답_온도 = pd.read_csv(\"./정답_온도.csv\", dtype={'column_name': object}, low_memory=False)\n",
    "도시별_지구_온도 = pd.read_csv(\"./도시별_지구_온도.csv\",low_memory=False)\n",
    "온도 = pd.read_csv(\"./온도.csv\",low_memory=False)"
   ]
  },
  {
   "cell_type": "code",
   "execution_count": null,
   "id": "cc928afd-60c8-4826-a875-69f14330cf73",
   "metadata": {},
   "outputs": [],
   "source": []
  },
  {
   "cell_type": "code",
   "execution_count": 78,
   "id": "e8f0e7d3-a250-4ff3-aa71-5ac056f303c2",
   "metadata": {},
   "outputs": [
    {
     "data": {
      "text/plain": [
       "array(['2013-09-01', '2013-10-01', '2013-11-01', '2013-12-01',\n",
       "       '2014-01-01', '2014-02-01', '2014-03-01', '2014-04-01',\n",
       "       '2014-05-01', '2014-06-01', '2014-07-01', '2014-08-01',\n",
       "       '2014-09-01', '2014-10-01', '2014-11-01', '2014-12-01',\n",
       "       '2015-01-01', '2015-02-01', '2015-03-01', '2015-04-01',\n",
       "       '2015-05-01', '2015-06-01', '2015-07-01', '2015-08-01',\n",
       "       '2015-09-01', '2015-10-01', '2015-11-01', '2015-12-01'],\n",
       "      dtype=object)"
      ]
     },
     "execution_count": 78,
     "metadata": {},
     "output_type": "execute_result"
    }
   ],
   "source": [
    "온도[온도[\"평균 온도\"].isnull()][\"날짜\"].unique()"
   ]
  },
  {
   "cell_type": "code",
   "execution_count": 79,
   "id": "407bdb92-0da8-42e2-809b-c38e841cbeec",
   "metadata": {},
   "outputs": [
    {
     "data": {
      "text/html": [
       "<div>\n",
       "<style scoped>\n",
       "    .dataframe tbody tr th:only-of-type {\n",
       "        vertical-align: middle;\n",
       "    }\n",
       "\n",
       "    .dataframe tbody tr th {\n",
       "        vertical-align: top;\n",
       "    }\n",
       "\n",
       "    .dataframe thead th {\n",
       "        text-align: right;\n",
       "    }\n",
       "</style>\n",
       "<table border=\"1\" class=\"dataframe\">\n",
       "  <thead>\n",
       "    <tr style=\"text-align: right;\">\n",
       "      <th></th>\n",
       "      <th>날짜</th>\n",
       "      <th>평균 온도</th>\n",
       "      <th>평균 온도 불확도</th>\n",
       "      <th>도시</th>\n",
       "      <th>국가</th>\n",
       "      <th>위도</th>\n",
       "      <th>경도</th>\n",
       "      <th>육지 평균 온도</th>\n",
       "      <th>육지 평균 온도 불확도</th>\n",
       "      <th>육지 최고 온도</th>\n",
       "      <th>육지 최고 온도 불확도</th>\n",
       "      <th>육지 최저 온도</th>\n",
       "      <th>육지 최저 온도 불확도</th>\n",
       "      <th>육지 바다 평균 온도</th>\n",
       "      <th>육지 바다 평균 온도 불확도</th>\n",
       "    </tr>\n",
       "  </thead>\n",
       "  <tbody>\n",
       "    <tr>\n",
       "      <th>0</th>\n",
       "      <td>1995-01-01</td>\n",
       "      <td>0.444</td>\n",
       "      <td>0.438</td>\n",
       "      <td>Århus</td>\n",
       "      <td>Denmark</td>\n",
       "      <td>57.05</td>\n",
       "      <td>10.33</td>\n",
       "      <td>3.54</td>\n",
       "      <td>0.057</td>\n",
       "      <td>8.895</td>\n",
       "      <td>0.151</td>\n",
       "      <td>-1.769</td>\n",
       "      <td>0.173</td>\n",
       "      <td>13.945</td>\n",
       "      <td>0.06</td>\n",
       "    </tr>\n",
       "  </tbody>\n",
       "</table>\n",
       "</div>"
      ],
      "text/plain": [
       "           날짜  평균 온도  평균 온도 불확도     도시       국가     위도     경도  육지 평균 온도  \\\n",
       "0  1995-01-01  0.444      0.438  Århus  Denmark  57.05  10.33      3.54   \n",
       "\n",
       "   육지 평균 온도 불확도  육지 최고 온도  육지 최고 온도 불확도  육지 최저 온도  육지 최저 온도 불확도  육지 바다 평균 온도  \\\n",
       "0         0.057     8.895         0.151    -1.769         0.173       13.945   \n",
       "\n",
       "   육지 바다 평균 온도 불확도  \n",
       "0             0.06  "
      ]
     },
     "execution_count": 79,
     "metadata": {},
     "output_type": "execute_result"
    }
   ],
   "source": [
    "온도.head(1)"
   ]
  },
  {
   "cell_type": "code",
   "execution_count": null,
   "id": "311c81bc-caa7-411a-8aa5-9fbd0e1bd861",
   "metadata": {},
   "outputs": [],
   "source": []
  }
 ],
 "metadata": {
  "kernelspec": {
   "display_name": "Python 3 (ipykernel)",
   "language": "python",
   "name": "python3"
  },
  "language_info": {
   "codemirror_mode": {
    "name": "ipython",
    "version": 3
   },
   "file_extension": ".py",
   "mimetype": "text/x-python",
   "name": "python",
   "nbconvert_exporter": "python",
   "pygments_lexer": "ipython3",
   "version": "3.10.14"
  }
 },
 "nbformat": 4,
 "nbformat_minor": 5
}
